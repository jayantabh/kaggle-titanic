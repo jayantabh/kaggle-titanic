{
 "cells": [
  {
   "cell_type": "code",
   "execution_count": 1,
   "metadata": {},
   "outputs": [
    {
     "name": "stderr",
     "output_type": "stream",
     "text": [
      "Using TensorFlow backend.\n"
     ]
    }
   ],
   "source": [
    "import numpy as np\n",
    "import pandas as pd\n",
    "from sklearn.preprocessing import StandardScaler\n",
    "from sklearn.model_selection import train_test_split\n",
    "from sklearn.ensemble import RandomForestClassifier\n",
    "from sklearn.preprocessing import Imputer\n",
    "from time import time\n",
    "from keras.models import Sequential\n",
    "from keras.layers import Dense, Activation\n",
    "\n",
    "np.random.seed(1337)"
   ]
  },
  {
   "cell_type": "code",
   "execution_count": 2,
   "metadata": {},
   "outputs": [],
   "source": [
    "df = pd.read_csv('input/train.csv')\n",
    "y = df['Survived'].values\n",
    "\n",
    "df_train, df_cv, y_train, y_cv = train_test_split(df, y, test_size=0.20, random_state=42)\n",
    "features = ['Pclass', 'Sex', 'Embarked']\n",
    "\n",
    "X_train = pd.get_dummies(df_train, columns = features)\n",
    "\n",
    "df_train = df_train.fillna(0)\n",
    "\n",
    "scale_features = ['Age', 'Fare']\n",
    "scaler = StandardScaler()\n",
    "X_train[scale_features] = scaler.fit_transform(df_train[scale_features].values)\n",
    "y_train_onehot = pd.get_dummies(y_train).values"
   ]
  },
  {
   "cell_type": "code",
   "execution_count": 3,
   "metadata": {},
   "outputs": [],
   "source": [
    "X_cv = pd.get_dummies(df_cv, columns = features)\n",
    "\n",
    "df_cv = df_cv.fillna(0)\n",
    "\n",
    "X_cv[scale_features] = scaler.fit_transform(df_cv[scale_features].values)"
   ]
  },
  {
   "cell_type": "code",
   "execution_count": 6,
   "metadata": {},
   "outputs": [],
   "source": [
    "X_train = X_train.drop(['PassengerId', 'Survived', 'Name', 'Ticket', 'Cabin'], axis=1)\n",
    "X_cv = X_cv.drop(['PassengerId', 'Survived', 'Name', 'Ticket', 'Cabin'], axis=1)"
   ]
  },
  {
   "cell_type": "code",
   "execution_count": 7,
   "metadata": {},
   "outputs": [
    {
     "name": "stdout",
     "output_type": "stream",
     "text": [
      "building tree 1 of 100\n",
      "building tree 2 of 100\n",
      "building tree 3 of 100\n",
      "building tree 4 of 100\n",
      "building tree 5 of 100\n",
      "building tree 6 of 100\n",
      "building tree 7 of 100\n",
      "building tree 8 of 100\n",
      "building tree 9 of 100\n",
      "building tree 10 of 100\n",
      "building tree 11 of 100\n",
      "building tree 12 of 100\n",
      "building tree 13 of 100\n",
      "building tree 14 of 100\n",
      "building tree 15 of 100\n",
      "building tree 16 of 100\n",
      "building tree 17 of 100\n",
      "building tree 18 of 100\n",
      "building tree 19 of 100\n",
      "building tree 20 of 100\n",
      "building tree 21 of 100\n",
      "building tree 22 of 100\n",
      "building tree 23 of 100\n",
      "building tree 24 of 100\n",
      "building tree 25 of 100\n",
      "building tree 26 of 100\n",
      "building tree 27 of 100\n",
      "building tree 28 of 100\n",
      "building tree 29 of 100\n",
      "building tree 30 of 100\n",
      "building tree 31 of 100\n",
      "building tree 32 of 100\n",
      "building tree 33 of 100\n",
      "building tree 34 of 100\n",
      "building tree 35 of 100\n",
      "building tree 36 of 100\n",
      "building tree 37 of 100\n",
      "building tree 38 of 100\n",
      "building tree 39 of 100\n",
      "building tree 40 of 100\n",
      "building tree 41 of 100\n",
      "building tree 42 of 100\n",
      "building tree 43 of 100\n",
      "building tree 44 of 100\n",
      "building tree 45 of 100\n",
      "building tree 46 of 100\n",
      "building tree 47 of 100\n",
      "building tree 48 of 100\n",
      "building tree 49 of 100\n",
      "building tree 50 of 100\n",
      "building tree 51 of 100\n",
      "building tree 52 of 100\n",
      "building tree 53 of 100\n",
      "building tree 54 of 100\n",
      "building tree 55 of 100\n",
      "building tree 56 of 100\n",
      "building tree 57 of 100\n",
      "building tree 58 of 100\n",
      "building tree 59 of 100\n",
      "building tree 60 of 100\n",
      "building tree 61 of 100\n",
      "building tree 62 of 100\n",
      "building tree 63 of 100\n",
      "building tree 64 of 100\n",
      "building tree 65 of 100\n",
      "building tree 66 of 100\n",
      "building tree 67 of 100\n",
      "building tree 68 of 100\n",
      "building tree 69 of 100\n",
      "building tree 70 of 100\n",
      "building tree 71 of 100\n",
      "building tree 72 of 100\n",
      "building tree 73 of 100\n",
      "building tree 74 of 100\n",
      "building tree 75 of 100\n",
      "building tree 76 of 100\n",
      "building tree 77 of 100\n",
      "building tree 78 of 100\n",
      "building tree 79 of 100\n",
      "building tree 80 of 100\n",
      "building tree 81 of 100\n",
      "building tree 82 of 100\n",
      "building tree 83 of 100\n",
      "building tree 84 of 100\n",
      "building tree 85 of 100\n",
      "building tree 86 of 100\n",
      "building tree 87 of 100\n",
      "building tree 88 of 100\n",
      "building tree 89 of 100\n",
      "building tree 90 of 100\n",
      "building tree 91 of 100\n",
      "building tree 92 of 100\n",
      "building tree 93 of 100\n",
      "building tree 94 of 100\n",
      "building tree 95 of 100\n",
      "building tree 96 of 100\n",
      "building tree 97 of 100\n",
      "building tree 98 of 100\n",
      "building tree 99 of 100\n",
      "building tree 100 of 100\n",
      "\n",
      "accuracy 0.7597765363128491\n"
     ]
    },
    {
     "name": "stderr",
     "output_type": "stream",
     "text": [
      "[Parallel(n_jobs=1)]: Done   1 out of   1 | elapsed:    0.0s remaining:    0.0s\n",
      "[Parallel(n_jobs=1)]: Done   2 out of   2 | elapsed:    0.0s remaining:    0.0s\n",
      "[Parallel(n_jobs=1)]: Done 100 out of 100 | elapsed:    0.1s finished\n",
      "[Parallel(n_jobs=1)]: Done   1 out of   1 | elapsed:    0.0s remaining:    0.0s\n",
      "[Parallel(n_jobs=1)]: Done   2 out of   2 | elapsed:    0.0s remaining:    0.0s\n",
      "[Parallel(n_jobs=1)]: Done 100 out of 100 | elapsed:    0.0s finished\n"
     ]
    }
   ],
   "source": [
    "model = RandomForestClassifier(random_state=0, verbose=3, n_estimators=100)\n",
    "model = model.fit(X_train, y_train)\n",
    "\n",
    "y_prediction = model.predict(X_cv)\n",
    "\n",
    "print(\"\\naccuracy\", np.sum(y_prediction == np.ravel(np.array(y_cv))) / float(len(y_cv)))"
   ]
  },
  {
   "cell_type": "code",
   "execution_count": 8,
   "metadata": {},
   "outputs": [
    {
     "name": "stderr",
     "output_type": "stream",
     "text": [
      "/home/jayantabhowmick/workspace/dev/lib64/python3.6/site-packages/ipykernel_launcher.py:5: UserWarning: Update your `Dense` call to the Keras 2 API: `Dense(input_dim=12, units=2)`\n",
      "  \"\"\"\n"
     ]
    },
    {
     "name": "stdout",
     "output_type": "stream",
     "text": [
      "Epoch 1/35\n",
      "712/712 [==============================] - 0s 244us/step - loss: 0.8146 - acc: 0.5169\n",
      "Epoch 2/35\n",
      "712/712 [==============================] - 0s 47us/step - loss: 0.7676 - acc: 0.5520\n",
      "Epoch 3/35\n",
      "712/712 [==============================] - 0s 38us/step - loss: 0.7337 - acc: 0.5772\n",
      "Epoch 4/35\n",
      "712/712 [==============================] - 0s 41us/step - loss: 0.7049 - acc: 0.6039\n",
      "Epoch 5/35\n",
      "712/712 [==============================] - 0s 38us/step - loss: 0.6805 - acc: 0.6138\n",
      "Epoch 6/35\n",
      "712/712 [==============================] - 0s 39us/step - loss: 0.6594 - acc: 0.6278\n",
      "Epoch 7/35\n",
      "712/712 [==============================] - 0s 41us/step - loss: 0.6405 - acc: 0.6404\n",
      "Epoch 8/35\n",
      "712/712 [==============================] - 0s 40us/step - loss: 0.6241 - acc: 0.6629\n",
      "Epoch 9/35\n",
      "712/712 [==============================] - 0s 36us/step - loss: 0.6098 - acc: 0.6896\n",
      "Epoch 10/35\n",
      "712/712 [==============================] - ETA: 0s - loss: 0.8176 - acc: 0.437 - 0s 39us/step - loss: 0.5970 - acc: 0.7037\n",
      "Epoch 11/35\n",
      "712/712 [==============================] - 0s 39us/step - loss: 0.5853 - acc: 0.7135\n",
      "Epoch 12/35\n",
      "712/712 [==============================] - 0s 41us/step - loss: 0.5754 - acc: 0.7247\n",
      "Epoch 13/35\n",
      "712/712 [==============================] - 0s 42us/step - loss: 0.5662 - acc: 0.7360\n",
      "Epoch 14/35\n",
      "712/712 [==============================] - 0s 37us/step - loss: 0.5582 - acc: 0.7458\n",
      "Epoch 15/35\n",
      "712/712 [==============================] - 0s 38us/step - loss: 0.5508 - acc: 0.7472\n",
      "Epoch 16/35\n",
      "712/712 [==============================] - 0s 41us/step - loss: 0.5438 - acc: 0.7528\n",
      "Epoch 17/35\n",
      "712/712 [==============================] - 0s 38us/step - loss: 0.5374 - acc: 0.7654\n",
      "Epoch 18/35\n",
      "712/712 [==============================] - 0s 38us/step - loss: 0.5316 - acc: 0.7669\n",
      "Epoch 19/35\n",
      "712/712 [==============================] - 0s 56us/step - loss: 0.5264 - acc: 0.7795\n",
      "Epoch 20/35\n",
      "712/712 [==============================] - 0s 42us/step - loss: 0.5218 - acc: 0.7823\n",
      "Epoch 21/35\n",
      "712/712 [==============================] - 0s 49us/step - loss: 0.5175 - acc: 0.7865\n",
      "Epoch 22/35\n",
      "712/712 [==============================] - 0s 37us/step - loss: 0.5133 - acc: 0.7935\n",
      "Epoch 23/35\n",
      "712/712 [==============================] - 0s 41us/step - loss: 0.5102 - acc: 0.7921\n",
      "Epoch 24/35\n",
      "712/712 [==============================] - 0s 40us/step - loss: 0.5067 - acc: 0.7978\n",
      "Epoch 25/35\n",
      "712/712 [==============================] - 0s 42us/step - loss: 0.5038 - acc: 0.7935\n",
      "Epoch 26/35\n",
      "712/712 [==============================] - 0s 39us/step - loss: 0.5012 - acc: 0.7992\n",
      "Epoch 27/35\n",
      "712/712 [==============================] - 0s 44us/step - loss: 0.4987 - acc: 0.7992\n",
      "Epoch 28/35\n",
      "712/712 [==============================] - 0s 47us/step - loss: 0.4963 - acc: 0.7978\n",
      "Epoch 29/35\n",
      "712/712 [==============================] - 0s 45us/step - loss: 0.4940 - acc: 0.7992\n",
      "Epoch 30/35\n",
      "712/712 [==============================] - 0s 39us/step - loss: 0.4921 - acc: 0.8020\n",
      "Epoch 31/35\n",
      "712/712 [==============================] - 0s 50us/step - loss: 0.4902 - acc: 0.7978\n",
      "Epoch 32/35\n",
      "712/712 [==============================] - 0s 40us/step - loss: 0.4886 - acc: 0.8006\n",
      "Epoch 33/35\n",
      "712/712 [==============================] - 0s 53us/step - loss: 0.4869 - acc: 0.8020\n",
      "Epoch 34/35\n",
      "712/712 [==============================] - 0s 54us/step - loss: 0.4856 - acc: 0.8020\n",
      "Epoch 35/35\n",
      "712/712 [==============================] - 0s 55us/step - loss: 0.4841 - acc: 0.8034\n",
      "\n",
      "time taken 1.6537306308746338 seconds\n"
     ]
    }
   ],
   "source": [
    "# 1 - Layer\n",
    "start = time()\n",
    "\n",
    "model = Sequential()\n",
    "model.add(Dense(input_dim=12, output_dim=2))\n",
    "model.add(Activation(\"softmax\"))\n",
    "\n",
    "model.compile(loss='categorical_crossentropy', optimizer='sgd', metrics=['accuracy'])\n",
    "\n",
    "model.fit(X_train, y_train_onehot, epochs = 35)\n",
    "\n",
    "print('\\ntime taken %s seconds' % str(time() - start))"
   ]
  },
  {
   "cell_type": "code",
   "execution_count": 9,
   "metadata": {},
   "outputs": [
    {
     "name": "stderr",
     "output_type": "stream",
     "text": [
      "/home/jayantabhowmick/workspace/dev/lib64/python3.6/site-packages/ipykernel_launcher.py:6: UserWarning: Update your `Dense` call to the Keras 2 API: `Dense(input_dim=12, units=100)`\n",
      "  \n",
      "/home/jayantabhowmick/workspace/dev/lib64/python3.6/site-packages/ipykernel_launcher.py:7: UserWarning: Update your `Dense` call to the Keras 2 API: `Dense(units=2)`\n",
      "  import sys\n"
     ]
    },
    {
     "name": "stdout",
     "output_type": "stream",
     "text": [
      "Epoch 1/10\n",
      "712/712 [==============================] - 0s 238us/step - loss: 0.7212 - acc: 0.5393\n",
      "Epoch 2/10\n",
      "712/712 [==============================] - 0s 41us/step - loss: 0.6129 - acc: 0.6713\n",
      "Epoch 3/10\n",
      "712/712 [==============================] - 0s 50us/step - loss: 0.5652 - acc: 0.7037\n",
      "Epoch 4/10\n",
      "712/712 [==============================] - 0s 48us/step - loss: 0.5373 - acc: 0.7317\n",
      "Epoch 5/10\n",
      "712/712 [==============================] - 0s 44us/step - loss: 0.5180 - acc: 0.7893\n",
      "Epoch 6/10\n",
      "712/712 [==============================] - 0s 47us/step - loss: 0.5057 - acc: 0.7935\n",
      "Epoch 7/10\n",
      "712/712 [==============================] - 0s 44us/step - loss: 0.4964 - acc: 0.8062\n",
      "Epoch 8/10\n",
      "712/712 [==============================] - 0s 44us/step - loss: 0.4881 - acc: 0.8006\n",
      "Epoch 9/10\n",
      "712/712 [==============================] - 0s 45us/step - loss: 0.4826 - acc: 0.8034\n",
      "Epoch 10/10\n",
      "712/712 [==============================] - 0s 43us/step - loss: 0.4780 - acc: 0.8020\n",
      "\n",
      "time taken 0.8058099746704102 seconds\n"
     ]
    }
   ],
   "source": [
    "# 2 - Layer\n",
    "\n",
    "start = time()\n",
    "\n",
    "model =  Sequential()\n",
    "model.add(Dense(input_dim=12, output_dim=100))\n",
    "model.add(Dense(output_dim=2))\n",
    "model.add(Activation(\"softmax\"))\n",
    "\n",
    "model.compile(loss='categorical_crossentropy', optimizer='sgd', metrics=['accuracy'])\n",
    "\n",
    "model.fit(X_train, y_train_onehot, epochs=10)\n",
    "\n",
    "print('\\ntime taken %s seconds' % str(time() - start))"
   ]
  },
  {
   "cell_type": "code",
   "execution_count": 14,
   "metadata": {},
   "outputs": [
    {
     "name": "stderr",
     "output_type": "stream",
     "text": [
      "/home/jayantabhowmick/workspace/dev/lib64/python3.6/site-packages/ipykernel_launcher.py:6: UserWarning: Update your `Dense` call to the Keras 2 API: `Dense(input_dim=12, units=100)`\n",
      "  \n",
      "/home/jayantabhowmick/workspace/dev/lib64/python3.6/site-packages/ipykernel_launcher.py:7: UserWarning: Update your `Dense` call to the Keras 2 API: `Dense(units=100)`\n",
      "  import sys\n",
      "/home/jayantabhowmick/workspace/dev/lib64/python3.6/site-packages/ipykernel_launcher.py:8: UserWarning: Update your `Dense` call to the Keras 2 API: `Dense(units=2)`\n",
      "  \n"
     ]
    },
    {
     "name": "stdout",
     "output_type": "stream",
     "text": [
      "Epoch 1/10\n",
      "712/712 [==============================] - 0s 361us/step - loss: 0.6260 - acc: 0.6461\n",
      "Epoch 2/10\n",
      "712/712 [==============================] - 0s 52us/step - loss: 0.5463 - acc: 0.7303\n",
      "Epoch 3/10\n",
      "712/712 [==============================] - 0s 51us/step - loss: 0.5121 - acc: 0.7739\n",
      "Epoch 4/10\n",
      "712/712 [==============================] - 0s 46us/step - loss: 0.4941 - acc: 0.7907\n",
      "Epoch 5/10\n",
      "712/712 [==============================] - 0s 48us/step - loss: 0.4823 - acc: 0.7865\n",
      "Epoch 6/10\n",
      "712/712 [==============================] - 0s 51us/step - loss: 0.4747 - acc: 0.7851\n",
      "Epoch 7/10\n",
      "712/712 [==============================] - 0s 58us/step - loss: 0.4707 - acc: 0.7963\n",
      "Epoch 8/10\n",
      "712/712 [==============================] - ETA: 0s - loss: 0.3747 - acc: 0.812 - 0s 47us/step - loss: 0.4664 - acc: 0.7992\n",
      "Epoch 9/10\n",
      "712/712 [==============================] - 0s 51us/step - loss: 0.4646 - acc: 0.7992\n",
      "Epoch 10/10\n",
      "712/712 [==============================] - 0s 61us/step - loss: 0.4624 - acc: 0.7921\n",
      "\n",
      "time taken 1.0386459827423096 seconds\n"
     ]
    }
   ],
   "source": [
    "# 3 - Layer\n",
    "\n",
    "start = time()\n",
    "\n",
    "model = Sequential()\n",
    "model.add(Dense(input_dim=12, output_dim=100))\n",
    "model.add(Dense(output_dim=100))\n",
    "model.add(Dense(output_dim=2))\n",
    "model.add(Activation(\"softmax\"))\n",
    "\n",
    "model.compile(loss='categorical_crossentropy', optimizer='sgd', metrics=['accuracy'])\n",
    "\n",
    "model.fit(X_train, y_train_onehot, epochs = 10)\n",
    "\n",
    "print('\\ntime taken %s seconds' % str(time() - start))"
   ]
  },
  {
   "cell_type": "code",
   "execution_count": 15,
   "metadata": {},
   "outputs": [
    {
     "name": "stdout",
     "output_type": "stream",
     "text": [
      "\n",
      "\n",
      "accuracy 0.7932960893854749\n"
     ]
    }
   ],
   "source": [
    "y_prediction = model.predict_classes(X_cv)\n",
    "print(\"\\n\\naccuracy\", np.sum(y_prediction == y_cv) / float(len(y_cv)))"
   ]
  },
  {
   "cell_type": "code",
   "execution_count": 16,
   "metadata": {},
   "outputs": [],
   "source": [
    "df_test = pd.read_csv('input/test.csv')\n",
    "\n",
    "features = ['Pclass', 'Sex', 'Embarked']\n",
    "\n",
    "X_test = pd.get_dummies(df_test, columns = features)\n",
    "\n",
    "df_test = df_test.fillna(0)\n",
    "\n",
    "scale_features = ['Age', 'Fare']\n",
    "scaler = StandardScaler()\n",
    "X_test[scale_features] = scaler.fit_transform(df_test[scale_features].values)\n",
    "X_test = X_test.drop(['PassengerId', 'Name', 'Ticket', 'Cabin'], axis=1)"
   ]
  },
  {
   "cell_type": "code",
   "execution_count": 17,
   "metadata": {},
   "outputs": [],
   "source": [
    "y_prediction = model.predict_classes(X_test)"
   ]
  },
  {
   "cell_type": "code",
   "execution_count": 18,
   "metadata": {},
   "outputs": [],
   "source": [
    "submit = pd.DataFrame({\"PassengerId\": df_test.PassengerId, \"Survived\": y_prediction})"
   ]
  },
  {
   "cell_type": "code",
   "execution_count": 19,
   "metadata": {},
   "outputs": [],
   "source": [
    "submit.to_csv('output/titanic.csv', index = False)"
   ]
  }
 ],
 "metadata": {
  "kernelspec": {
   "display_name": "dev",
   "language": "python",
   "name": "dev"
  },
  "language_info": {
   "codemirror_mode": {
    "name": "ipython",
    "version": 3
   },
   "file_extension": ".py",
   "mimetype": "text/x-python",
   "name": "python",
   "nbconvert_exporter": "python",
   "pygments_lexer": "ipython3",
   "version": "3.6.5"
  }
 },
 "nbformat": 4,
 "nbformat_minor": 2
}
